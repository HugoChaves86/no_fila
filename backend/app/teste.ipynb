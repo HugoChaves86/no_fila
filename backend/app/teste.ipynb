{
 "cells": [
  {
   "cell_type": "code",
   "execution_count": 3,
   "metadata": {},
   "outputs": [],
   "source": [
    "import aiohttp\n",
    "from models.siac import SiacAuth, SiacProofOfRegistration, SiacSubject, SiacLesson\n",
    "from io import StringIO\n",
    "from http.cookies import SimpleCookie\n",
    "import pandas as pd\n",
    "from fastapi.exceptions import HTTPException\n",
    "from starlette.status import HTTP_400_BAD_REQUEST\n",
    "\n",
    "\n",
    "async def auth_cookies(cpf: str, senha: str) -> SimpleCookie:\n",
    "    login_url = \"https://siac.ufba.br/SiacWWW/LogonSubmit.do\"\n",
    "    data = {\"cpf\": cpf, \"senha\": senha}\n",
    "    headers = {\"Content-Type\": \"application/x-www-form-urlencoded\"}\n",
    "\n",
    "    async with aiohttp.ClientSession() as session:\n",
    "        async with session.post(login_url, data=data, headers=headers) as response:\n",
    "            response_text = await response.text()\n",
    "            \n",
    "            if \"O CPF informado não é válido.\" in response_text:\n",
    "                raise HTTPException(\n",
    "                    status_code=HTTP_400_BAD_REQUEST, \n",
    "                    detail=\"Invalid CPF.\"\n",
    "                )\n",
    "            if \"For input string: \" in response_text:\n",
    "                raise HTTPException(\n",
    "                    status_code=HTTP_400_BAD_REQUEST, \n",
    "                    detail=\"Invalid CPF.\"\n",
    "                )\n",
    "            if \"A senha informada para o usuário de CPF\" in response_text:\n",
    "                raise HTTPException(\n",
    "                    status_code=HTTP_400_BAD_REQUEST, \n",
    "                    detail=\"Invalid Password.\"\n",
    "                )\n",
    "            return response.cookies\n"
   ]
  },
  {
   "cell_type": "code",
   "execution_count": 4,
   "metadata": {},
   "outputs": [],
   "source": [
    "cookies = await auth_cookies(\"85804437500\", \"$n!7Pro9MnQxtBHkzm9&&vCmPpV!8%669%ftGB\")\n",
    "comprovante_url = \"https://siac.ufba.br/SiacWWW/ConsultarComprovanteMatricula.do\"\n",
    "\n",
    "async with aiohttp.ClientSession(cookies=cookies) as session:\n",
    "    async with session.get(comprovante_url) as response:\n",
    "        dfs = pd.read_html(StringIO(await response.text()))\n"
   ]
  },
  {
   "cell_type": "code",
   "execution_count": 12,
   "metadata": {},
   "outputs": [
    {
     "data": {
      "text/plain": [
       "'JONATHAN BISPO DOS SANTOS'"
      ]
     },
     "execution_count": 12,
     "metadata": {},
     "output_type": "execute_result"
    }
   ],
   "source": []
  }
 ],
 "metadata": {
  "kernelspec": {
   "display_name": "backend_nofila",
   "language": "python",
   "name": "python3"
  },
  "language_info": {
   "codemirror_mode": {
    "name": "ipython",
    "version": 3
   },
   "file_extension": ".py",
   "mimetype": "text/x-python",
   "name": "python",
   "nbconvert_exporter": "python",
   "pygments_lexer": "ipython3",
   "version": "3.11.5"
  }
 },
 "nbformat": 4,
 "nbformat_minor": 2
}
